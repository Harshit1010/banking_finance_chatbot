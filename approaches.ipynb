{
  "cells": [
    {
      "cell_type": "code",
      "execution_count": 27,
      "metadata": {
        "id": "heKGqXMwajPi"
      },
      "outputs": [],
      "source": [
        "import numpy as np\n",
        "import pandas as pd\n",
        "import spacy\n",
        "from sklearn.feature_extraction.text import TfidfVectorizer\n",
        "from sklearn.metrics.pairwise import cosine_similarity\n",
        "from gensim.models import Word2Vec\n",
        "from transformers import BertTokenizer, BertModel\n",
        "import torch"
      ]
    },
    {
      "cell_type": "code",
      "execution_count": 28,
      "metadata": {
        "id": "JSvhiLxJoPpl"
      },
      "outputs": [],
      "source": [
        "df = pd.read_csv('/content/faq_new.csv')"
      ]
    },
    {
      "cell_type": "code",
      "execution_count": 29,
      "metadata": {
        "id": "tNDvKs6KsNSy"
      },
      "outputs": [],
      "source": [
        "def wrap_text(text, width=100):\n",
        "    lines = []\n",
        "    for line in text.split('\\n'):\n",
        "        while len(line) > width:\n",
        "            split_at = line[:width].rfind(' ')\n",
        "            if split_at == -1:\n",
        "                split_at = width\n",
        "            lines.append(line[:split_at])\n",
        "            line = line[split_at:].lstrip()\n",
        "        lines.append(line)\n",
        "    return '\\n'.join(lines)"
      ]
    },
    {
      "cell_type": "code",
      "execution_count": 30,
      "metadata": {
        "id": "WD3nBaUTvdS5"
      },
      "outputs": [],
      "source": [
        "questions = df['Questions'].tolist()\n",
        "answers = df['Answers'].tolist()"
      ]
    },
    {
      "cell_type": "markdown",
      "source": [
        "###1st Approach - cosine similarity"
      ],
      "metadata": {
        "id": "aoTMatemsxdb"
      }
    },
    {
      "cell_type": "code",
      "execution_count": 31,
      "metadata": {
        "id": "0pborM3yvee-"
      },
      "outputs": [],
      "source": [
        "nlp = spacy.load(\"en_core_web_sm\")"
      ]
    },
    {
      "cell_type": "code",
      "execution_count": 32,
      "metadata": {
        "colab": {
          "base_uri": "https://localhost:8080/"
        },
        "id": "e0MdGEPs4K5s",
        "outputId": "79803cc4-8920-4b7d-ed47-f7818d47e685"
      },
      "outputs": [
        {
          "output_type": "stream",
          "name": "stdout",
          "text": [
            "\u001b[1m Top 3 matching answers: \u001b[0m \n",
            "\n",
            "1. \u001b[1m \u001b[3m Similarity score:\u001b 0.642\u001b[0m \u001b[0m\n",
            "\n",
            "\u001b[3m Question:\u001b[0m Can I set up automatic transfers between my accounts and those of family members? \n",
            "\u001b[3m Answer:\u001b[0m Unfortunately, automatic transfers between accounts held by different individuals are not\n",
            "supported. Each account owner should manage their transfers.\n",
            "\n",
            "2. \u001b[1m \u001b[3m Similarity score:\u001b 0.554\u001b[0m \u001b[0m\n",
            "\n",
            "\u001b[3m Question:\u001b[0m Are there penalties for early withdrawal from a certificate of deposit (CD)? \n",
            "\u001b[3m Answer:\u001b[0m Yes, early withdrawal from a CD may incur penalties. Review the terms of your CD or contact\n",
            "customer service for information on withdrawal penalties.\n",
            "\n",
            "3. \u001b[1m \u001b[3m Similarity score:\u001b 0.543\u001b[0m \u001b[0m\n",
            "\n",
            "\u001b[3m Question:\u001b[0m What is the process for ordering a new set of checks for my account? \n",
            "\u001b[3m Answer:\u001b[0m You can order a new set of checks by visiting a branch, contacting customer service, or using the\n",
            "check ordering feature in your online banking account.\n",
            "\n"
          ]
        }
      ],
      "source": [
        "sentences = questions\n",
        "\n",
        "# input_sentence = \"How to get credit card along with co-applicant?\"\n",
        "input_sentence = \"I want to know about the security and privacy of my personal details in bank records?\"\n",
        "\n",
        "input_doc = nlp(input_sentence)\n",
        "sentence_docs = [nlp(sent) for sent in sentences]\n",
        "\n",
        "similarity_scores = [cosine_similarity(input_doc.vector.reshape(1, -1), sent.vector.reshape(1, -1))[0][0] for sent in sentence_docs]\n",
        "top_indices = np.argsort(similarity_scores)[-3:][::-1]\n",
        "\n",
        "print(\"\\033[1m Top 3 matching answers: \\033[0m \\n\")\n",
        "for i in range(len(top_indices)):\n",
        "    ques = wrap_text(questions[top_indices[i]])\n",
        "    ans = wrap_text(answers[top_indices[i]])\n",
        "    print(f'{i+1}. \\033[1m \\033[3m Similarity score:\\033 {round(float(similarity_scores[top_indices[i]]), 3)}\\033[0m \\033[0m\\n')\n",
        "    print(f\"\\033[3m Question:\\033[0m {ques} \")\n",
        "    print(f\"\\033[3m Answer:\\033[0m {ans}\\n\")"
      ]
    },
    {
      "cell_type": "code",
      "execution_count": 33,
      "metadata": {
        "colab": {
          "base_uri": "https://localhost:8080/"
        },
        "id": "yW1dE4MyvkMg",
        "outputId": "1dadd156-2bdc-4ba9-b232-cd974d628845"
      },
      "outputs": [
        {
          "output_type": "stream",
          "name": "stdout",
          "text": [
            "I, I\n",
            "want, want\n",
            "to, to\n",
            "know, know\n",
            "about, about\n",
            "the, the\n",
            "security, security\n",
            "and, and\n",
            "privacy, privacy\n",
            "of, of\n",
            "my, my\n",
            "personal, personal\n",
            "details, detail\n",
            "in, in\n",
            "bank, bank\n",
            "records, record\n",
            "?, ?\n"
          ]
        }
      ],
      "source": [
        "for token in input_doc:\n",
        "    print(f\"{token.text}, {token.lemma_}\")"
      ]
    },
    {
      "cell_type": "markdown",
      "source": [
        "###2nd approach - Tf-Idf"
      ],
      "metadata": {
        "id": "zQLLUYzKqwHM"
      }
    },
    {
      "cell_type": "code",
      "execution_count": null,
      "metadata": {
        "id": "Wcq_92NavgQc"
      },
      "outputs": [],
      "source": [
        "lowered_ques = [question.lower() for question in questions]\n",
        "proc_questions = [nlp(i) for i in lowered_ques]\n",
        "# print(proc_questions)"
      ]
    },
    {
      "cell_type": "code",
      "execution_count": 35,
      "metadata": {
        "colab": {
          "base_uri": "https://localhost:8080/"
        },
        "id": "3XkFh7bowMnN",
        "outputId": "a7577184-3565-4d6f-8767-a3bde0398020"
      },
      "outputs": [
        {
          "output_type": "stream",
          "name": "stdout",
          "text": [
            "how, how\n",
            "do, do\n",
            "i, I\n",
            "update, update\n",
            "my, my\n",
            "email, email\n",
            "address, address\n",
            "linked, link\n",
            "to, to\n",
            "the, the\n",
            "bank, bank\n",
            "account, account\n",
            "?, ?\n"
          ]
        }
      ],
      "source": [
        "for token in proc_questions[0]:\n",
        "    print(f\"{token.text}, {token.lemma_}\")"
      ]
    },
    {
      "cell_type": "code",
      "execution_count": null,
      "metadata": {
        "id": "KEJD8XrGwmHy"
      },
      "outputs": [],
      "source": [
        "proc_questions_new = [str(doc) for doc in proc_questions]\n",
        "# print(proc_questions_new)"
      ]
    },
    {
      "cell_type": "code",
      "execution_count": null,
      "metadata": {
        "id": "sQXZwc-uwrO6"
      },
      "outputs": [],
      "source": [
        "vectorizer = TfidfVectorizer()\n",
        "q_vectors = vectorizer.fit_transform(proc_questions_new)\n",
        "# print(q_vectors)\n",
        "# print(len(vectorizer.get_feature_names_out()))"
      ]
    },
    {
      "cell_type": "code",
      "execution_count": 38,
      "metadata": {
        "id": "ZlXk1zLgxd78"
      },
      "outputs": [],
      "source": [
        "# Get top 3 matches\n",
        "def get_top_matches(query, processed_questions, answer_vectors):\n",
        "    ques = query.lower()\n",
        "    ques_tokenized = nlp(ques)\n",
        "    query_new = str(ques_tokenized)\n",
        "    query_vector = vectorizer.transform([query_new])\n",
        "\n",
        "    similarities = cosine_similarity(query_vector, answer_vectors).flatten()\n",
        "    top_indices = similarities.argsort()[-3:][::-1]\n",
        "\n",
        "    top_scores = [similarities[i] for i in top_indices]\n",
        "    top_answers = [answers[i] for i in top_indices]\n",
        "    top_questions = [questions[i] for i in top_indices]\n",
        "    return top_scores, top_questions, top_answers"
      ]
    },
    {
      "cell_type": "code",
      "execution_count": 39,
      "metadata": {
        "colab": {
          "base_uri": "https://localhost:8080/"
        },
        "id": "K7eVkT3goPnS",
        "outputId": "a8214d05-7f96-4802-f24b-ce7fa34af3a4"
      },
      "outputs": [
        {
          "output_type": "stream",
          "name": "stdout",
          "text": [
            "\u001b[1m Top 3 matching answers: \u001b[0m \n",
            "\n",
            "1. \u001b[1m \u001b[3m Similarity score:\u001b 0.363\u001b[0m \u001b[0m\n",
            "\n",
            "\u001b[3m Question:\u001b[0m How can I obtain a copy of the bank's privacy policy? \n",
            "\u001b[3m Answer:\u001b[0m The bank's privacy policy is available on our website. You can also request a copy by visiting a\n",
            "branch or contacting our customer service.\n",
            "\n",
            "2. \u001b[1m \u001b[3m Similarity score:\u001b 0.302\u001b[0m \u001b[0m\n",
            "\n",
            "\u001b[3m Question:\u001b[0m What security measures are in place for online transactions? \n",
            "\u001b[3m Answer:\u001b[0m We employ advanced security measures, including encryption, multi-factor authentication, and secure\n",
            "connections, to protect your online transactions and personal information.\n",
            "\n",
            "3. \u001b[1m \u001b[3m Similarity score:\u001b 0.278\u001b[0m \u001b[0m\n",
            "\n",
            "\u001b[3m Question:\u001b[0m What types of personal loans does the bank offer? \n",
            "\u001b[3m Answer:\u001b[0m We offer various personal loans, including personal installment loans and lines of credit. Contact\n",
            "our loan department or visit a branch for details on available options.\n",
            "\n"
          ]
        }
      ],
      "source": [
        "# user_input = \"How to get credit card along with co-applicant?\"\n",
        "user_input = \"I want to know about the security and privacy of my personal details in bank records?\"\n",
        "similarity, top_questions, top_matching_answers = get_top_matches(user_input, proc_questions_new, q_vectors)\n",
        "\n",
        "print(\"\\033[1m Top 3 matching answers: \\033[0m \\n\")\n",
        "for i in range(3):\n",
        "    ques = wrap_text(top_questions[i])\n",
        "    ans = wrap_text(top_matching_answers[i])\n",
        "    print(f'{i+1}. \\033[1m \\033[3m Similarity score:\\033 {round(similarity[i], 3)}\\033[0m \\033[0m\\n')\n",
        "    print(f\"\\033[3m Question:\\033[0m {ques} \")\n",
        "    print(f\"\\033[3m Answer:\\033[0m {ans}\\n\")"
      ]
    },
    {
      "cell_type": "markdown",
      "source": [
        "###3rd Approach - Word2Vec"
      ],
      "metadata": {
        "id": "AgAAiaEVrBE1"
      }
    },
    {
      "cell_type": "code",
      "source": [
        "sentences = questions\n",
        "\n",
        "input_sentence = \"I want to know about the security and privacy of my personal details in bank records?\"\n",
        "\n",
        "tokenized_sentences = [[token.text for token in nlp(sentence)] for sentence in sentences]\n",
        "tokenized_input = [token.text for token in nlp(input_sentence)]\n",
        "\n",
        "model = Word2Vec(sentences=tokenized_sentences, vector_size=150, window=10, min_count=1, workers=4)\n",
        "\n",
        "def sentence_vector(sentence):\n",
        "    vectors = [model.wv[word] for word in sentence if word in model.wv]\n",
        "    if vectors:\n",
        "        return np.mean(vectors, axis=0)\n",
        "    return np.zeros(model.vector_size)\n",
        "\n",
        "input_vector = sentence_vector(tokenized_input)\n",
        "sentence_vectors = [sentence_vector(sentence) for sentence in tokenized_sentences]\n",
        "\n",
        "similarity_scores = [cosine_similarity(input_vector.reshape(1, -1), vec.reshape(1, -1))[0][0] for vec in sentence_vectors]\n",
        "\n",
        "top_indices = np.argsort(similarity_scores)[-3:][::-1]\n",
        "\n",
        "print(\"\\033[1m Top 3 matching answers: \\033[0m \\n\")\n",
        "for i in range(len(top_indices)):\n",
        "  ques = wrap_text(questions[top_indices[i]])\n",
        "  ans = wrap_text(answers[top_indices[i]])\n",
        "  print(f'{i+1}. \\033[1m \\033[3m Similarity score:\\033 {round(float(similarity_scores[top_indices[i]]), 3)}\\033[0m \\033[0m\\n')\n",
        "  print(f\"\\033[3m Question:\\033[0m {ques} \")\n",
        "  print(f\"\\033[3m Answer:\\033[0m {ans}\\n\")\n"
      ],
      "metadata": {
        "colab": {
          "base_uri": "https://localhost:8080/"
        },
        "id": "QgZTZJR2vVY1",
        "outputId": "630a30f9-26f1-41cc-ff5d-5d1bc9f845d5"
      },
      "execution_count": 40,
      "outputs": [
        {
          "output_type": "stream",
          "name": "stdout",
          "text": [
            "\u001b[1m Top 3 matching answers: \u001b[0m \n",
            "\n",
            "1. \u001b[1m \u001b[3m Similarity score:\u001b 0.747\u001b[0m \u001b[0m\n",
            "\n",
            "\u001b[3m Question:\u001b[0m How do I update my email address linked to the bank account? \n",
            "\u001b[3m Answer:\u001b[0m You can update your email address by logging into your online banking account and navigating to the\n",
            "profile settings. Alternatively, visit a branch or contact customer service.\n",
            "\n",
            "2. \u001b[1m \u001b[3m Similarity score:\u001b 0.727\u001b[0m \u001b[0m\n",
            "\n",
            "\u001b[3m Question:\u001b[0m How can I update my personal identification information with the bank? \n",
            "\u001b[3m Answer:\u001b[0m You can update personal identification information by visiting a branch, contacting the manager at\n",
            "the concerned branch\n",
            "\n",
            "3. \u001b[1m \u001b[3m Similarity score:\u001b 0.724\u001b[0m \u001b[0m\n",
            "\n",
            "\u001b[3m Question:\u001b[0m How can I obtain a copy of the bank's privacy policy? \n",
            "\u001b[3m Answer:\u001b[0m The bank's privacy policy is available on our website. You can also request a copy by visiting a\n",
            "branch or contacting our customer service.\n",
            "\n"
          ]
        }
      ]
    },
    {
      "cell_type": "markdown",
      "source": [
        "###4th Approach - BERT"
      ],
      "metadata": {
        "id": "sWDgx0uvsDrh"
      }
    },
    {
      "cell_type": "code",
      "execution_count": 41,
      "metadata": {
        "colab": {
          "base_uri": "https://localhost:8080/"
        },
        "id": "WF2UDcMCjqC_",
        "outputId": "47dde506-feb9-44a9-e9ef-ffb4ec091b86"
      },
      "outputs": [
        {
          "output_type": "stream",
          "name": "stdout",
          "text": [
            "1. \u001b[1m \u001b[3m Similarity score:\u001b 0.999\u001b[0m \u001b[0m\n",
            "\n",
            "\u001b[3m Question:\u001b[0m Is there a limit on the number of transactions I can make in a month? \n",
            "\u001b[3m Answer:\u001b[0m Transaction limits vary based on the type of account. Review your account terms, fee schedule, or\n",
            "contact customer service for information on transaction limits.\n",
            "\n",
            "2. \u001b[1m \u001b[3m Similarity score:\u001b 0.998\u001b[0m \u001b[0m\n",
            "\n",
            "\u001b[3m Question:\u001b[0m Can I add a joint account holder to my existing account? \n",
            "\u001b[3m Answer:\u001b[0m Yes, you can add a joint account holder by visiting a branch together and completing the necessary\n",
            "paperwork. Contact customer service for details on adding joint account holders.\n",
            "\n",
            "3. \u001b[1m \u001b[3m Similarity score:\u001b 0.998\u001b[0m \u001b[0m\n",
            "\n",
            "\u001b[3m Question:\u001b[0m How can I change the PIN for my debit card? \n",
            "\u001b[3m Answer:\u001b[0m To change the PIN for your debit card, visit an ATM, follow the on-screen instructions for PIN\n",
            "change, or contact customer service for assistance.\n",
            "\n"
          ]
        }
      ],
      "source": [
        "sentences = questions\n",
        "\n",
        "# input_sentence = \"How to get credit card along with co-applicant?\"\n",
        "input_sentence = \"I want to know about the security and privacy of my personal details in bank records?\"\n",
        "\n",
        "# pre-trained tokenizer& model\n",
        "tokenizer = BertTokenizer.from_pretrained('bert-large-cased')\n",
        "model = BertModel.from_pretrained('bert-large-cased')\n",
        "\n",
        "input_tokens = tokenizer.encode(input_sentence, return_tensors='pt')\n",
        "sentence_tokens = [tokenizer.encode(sentence, return_tensors='pt') for sentence in sentences]\n",
        "\n",
        "#get embeddings\n",
        "with torch.no_grad():\n",
        "    input_embeddings = model(input_tokens)['pooler_output']\n",
        "    sentence_embeddings = [model(tokens)['pooler_output'] for tokens in sentence_tokens]\n",
        "\n",
        "input_embedding_np = input_embeddings.numpy()\n",
        "sentence_embeddings_np = [embedding.numpy() for embedding in sentence_embeddings]\n",
        "\n",
        "similarity_scores = [cosine_similarity(input_embedding_np, embedding)[0][0] for embedding in sentence_embeddings_np]\n",
        "\n",
        "top_indices = np.argsort(similarity_scores)[-3:][::-1]\n",
        "\n",
        "for i in range(len(top_indices)):\n",
        "  ques = wrap_text(questions[top_indices[i]])\n",
        "  ans = wrap_text(answers[top_indices[i]])\n",
        "  print(f'{i+1}. \\033[1m \\033[3m Similarity score:\\033 {round(float(similarity_scores[top_indices[i]]), 3)}\\033[0m \\033[0m\\n')\n",
        "  print(f\"\\033[3m Question:\\033[0m {ques} \")\n",
        "  print(f\"\\033[3m Answer:\\033[0m {ans}\\n\")\n"
      ]
    }
  ],
  "metadata": {
    "colab": {
      "provenance": []
    },
    "kernelspec": {
      "display_name": "Python 3",
      "name": "python3"
    },
    "language_info": {
      "name": "python"
    }
  },
  "nbformat": 4,
  "nbformat_minor": 0
}